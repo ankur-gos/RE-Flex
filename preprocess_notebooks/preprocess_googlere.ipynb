{
 "cells": [
  {
   "cell_type": "code",
   "execution_count": 24,
   "metadata": {},
   "outputs": [],
   "source": [
    "import numpy as np\n",
    "import pandas as pd\n",
    "from reflex.utils import load_file\n",
    "import glob\n",
    "import os\n",
    "import json"
   ]
  },
  {
   "cell_type": "code",
   "execution_count": 25,
   "metadata": {},
   "outputs": [],
   "source": [
    "dataset_path = '/Users/ankur/Projects/RE-Flex/data/Google_RE'\n",
    "new_directory = '/Users/ankur/Projects/RE-Flex/data/Google_RE2'\n",
    "\n",
    "for f in glob.glob(os.path.join(dataset_path, '*')):\n",
    "    results = []\n",
    "    bname = os.path.basename(f)\n",
    "    data = load_file(f)\n",
    "    for d in data:\n",
    "        judgements = d['judgments']\n",
    "        y = 0\n",
    "        n = 0\n",
    "        for j in judgements:\n",
    "            if j['judgment'] == 'yes':\n",
    "                y += 1\n",
    "            else:\n",
    "                n += 1\n",
    "        # We only consider examples that have a majority vote yes judgement\n",
    "        if y <= n:\n",
    "            continue\n",
    "        head = d['sub_label']\n",
    "        tail = d['obj_label']\n",
    "        context = None\n",
    "        # We take the first masked sentence that has a mask in it\n",
    "        for ms in d['masked_sentences']:\n",
    "            if '[MASK]' in ms:\n",
    "                context = ms.replace('[MASK]', tail)\n",
    "                break\n",
    "        if context is None:\n",
    "            continue\n",
    "        results.append({'subject': head, 'context': context, 'object': tail})\n",
    "    with open(os.path.join(new_directory, bname), 'w') as wf:\n",
    "        for r in results:\n",
    "            wf.write(f'{json.dumps(r)}\\n')\n",
    "        "
   ]
  },
  {
   "cell_type": "code",
   "execution_count": null,
   "metadata": {},
   "outputs": [],
   "source": []
  }
 ],
 "metadata": {
  "kernelspec": {
   "display_name": "Python 3",
   "language": "python",
   "name": "python3"
  },
  "language_info": {
   "codemirror_mode": {
    "name": "ipython",
    "version": 3
   },
   "file_extension": ".py",
   "mimetype": "text/x-python",
   "name": "python",
   "nbconvert_exporter": "python",
   "pygments_lexer": "ipython3",
   "version": "3.6.10"
  }
 },
 "nbformat": 4,
 "nbformat_minor": 4
}
